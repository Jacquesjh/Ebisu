{
 "cells": [
  {
   "cell_type": "code",
   "execution_count": 1,
   "metadata": {},
   "outputs": [],
   "source": [
    "from datetime import datetime\n",
    "import pandas as pd\n",
    "\n",
    "from athena.src.services.simulation.simulation import Simulation\n",
    "from athena.src.services.backtest.backtest import Backtest"
   ]
  },
  {
   "cell_type": "markdown",
   "metadata": {},
   "source": [
    "# When is the start of the backtest?"
   ]
  },
  {
   "cell_type": "code",
   "execution_count": 2,
   "metadata": {},
   "outputs": [],
   "source": [
    "start_date = datetime(2021, 1, 1)"
   ]
  },
  {
   "cell_type": "markdown",
   "metadata": {},
   "source": [
    "# Downloading the data *takes ~25 seconds"
   ]
  },
  {
   "cell_type": "code",
   "execution_count": 3,
   "metadata": {},
   "outputs": [],
   "source": [
    "data = pd.read_csv(\"data\", header = [0, 1], index_col = 0)\n",
    "data.index = pd.to_datetime(data.index)\n",
    "# data"
   ]
  },
  {
   "cell_type": "code",
   "execution_count": 4,
   "metadata": {},
   "outputs": [],
   "source": [
    "constraints = {\n",
    "    \"invest_sections\": {0.25: [\"FIXA11\", \"IRFM11\"]}\n",
    "}"
   ]
  },
  {
   "cell_type": "code",
   "execution_count": 5,
   "metadata": {},
   "outputs": [],
   "source": [
    "sim = Simulation(portfolio_size = 10, min_num_filters = 2, max_num_filters = 3, constraints = constraints, rebalance_interval = \"monthly\")"
   ]
  },
  {
   "cell_type": "code",
   "execution_count": 13,
   "metadata": {},
   "outputs": [],
   "source": [
    "sim.get_many_strategies(data = data, num_strategies = 5000)\n",
    "strategies = sim.strategies"
   ]
  },
  {
   "cell_type": "code",
   "execution_count": 12,
   "metadata": {},
   "outputs": [],
   "source": [
    "for strategy in list(strategies.values()):\n",
    "    backtest = Backtest(data = data, filters = strategy[\"filters\"], optimizer = strategy[\"optimizer\"],\n",
    "                        start_date = start_date, constraints = strategy[\"constraints\"], rebalance_interval = \"monthly\")\n",
    "\n",
    "    backtest.backtest(plot_snapshot = False)"
   ]
  },
  {
   "cell_type": "code",
   "execution_count": 8,
   "metadata": {},
   "outputs": [
    {
     "data": {
      "text/plain": [
       "{'filters': {'sharpe->0': {'num_tickers': 189},\n",
       "  'sortino->1': {'num_tickers': 10}},\n",
       " 'optimizer': {'ewp': None},\n",
       " 'constraints': {'invest_sections': {0.25: ['FIXA11', 'IRFM11']}}}"
      ]
     },
     "execution_count": 8,
     "metadata": {},
     "output_type": "execute_result"
    }
   ],
   "source": [
    "strategy"
   ]
  },
  {
   "cell_type": "code",
   "execution_count": 9,
   "metadata": {},
   "outputs": [
    {
     "data": {
      "text/plain": [
       "2021-01-04    0.005878\n",
       "2021-01-05    0.005926\n",
       "2021-01-06   -0.009583\n",
       "2021-01-07    0.013828\n",
       "2021-01-08    0.023525\n",
       "                ...   \n",
       "2022-06-01    -0.00143\n",
       "2022-06-02    0.006337\n",
       "2022-06-03   -0.001653\n",
       "2022-06-06   -0.011924\n",
       "2022-06-07    0.000105\n",
       "Name: returns, Length: 358, dtype: object"
      ]
     },
     "execution_count": 9,
     "metadata": {},
     "output_type": "execute_result"
    }
   ],
   "source": [
    "backtest = Backtest(data = data, filters = strategy[\"filters\"], optimizer = strategy[\"optimizer\"],\n",
    "                    start_date = start_date, constraints = strategy[\"constraints\"], rebalance_interval = \"monthly\")\n",
    "\n",
    "backtest.backtest(plot_snapshot = False)\n",
    "backtest.returns"
   ]
  },
  {
   "cell_type": "code",
   "execution_count": 10,
   "metadata": {},
   "outputs": [],
   "source": [
    "# sim.run_universe(data = data, start_date = start_date, num_possibilities = 100)"
   ]
  }
 ],
 "metadata": {
  "interpreter": {
   "hash": "45fd9bcd5fc85e1dbf083a295d7ebca2be267dd81b1cd67b6b9405cc403d92ff"
  },
  "kernelspec": {
   "display_name": "Python 3.8.8 ('research-0MDvmO17-py3.8')",
   "language": "python",
   "name": "python3"
  },
  "language_info": {
   "codemirror_mode": {
    "name": "ipython",
    "version": 3
   },
   "file_extension": ".py",
   "mimetype": "text/x-python",
   "name": "python",
   "nbconvert_exporter": "python",
   "pygments_lexer": "ipython3",
   "version": "3.8.8"
  },
  "orig_nbformat": 4
 },
 "nbformat": 4,
 "nbformat_minor": 2
}
