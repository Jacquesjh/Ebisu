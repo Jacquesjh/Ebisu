{
 "cells": [
  {
   "cell_type": "code",
   "execution_count": 5,
   "metadata": {},
   "outputs": [
    {
     "name": "stderr",
     "output_type": "stream",
     "text": [
      "2022-03-08 15:35:32,015\tINFO worker.py:862 -- Calling ray.init() again after it has already been called.\n"
     ]
    },
    {
     "name": "stdout",
     "output_type": "stream",
     "text": [
      "['1']\n",
      "In progress: [ObjectRef(480a853c2c4c6f27891e2ac898ae26e07c69db8b0100000001000000), ObjectRef(623b26bdd75b28e9891e2ac898ae26e07c69db8b0100000001000000)]\n",
      "['ok']\n",
      "In progress: [ObjectRef(623b26bdd75b28e9891e2ac898ae26e07c69db8b0100000001000000)]\n",
      "['test']\n",
      "In progress: []\n"
     ]
    }
   ],
   "source": [
    "import ray\n",
    "ray.init(ignore_reinit_error = True)\n",
    "import time\n",
    "\n",
    "@ray.remote\n",
    "class A:\n",
    "\n",
    "    def test1(self):\n",
    "        time.sleep(1)\n",
    "        return \"1\"\n",
    "\n",
    "    def test2(self):\n",
    "        time.sleep(5)\n",
    "        return \"ok\"\n",
    "\n",
    "    def test3(self):\n",
    "        time.sleep(20)\n",
    "        return \"test\"\n",
    "\n",
    "cl = A.remote()\n",
    "processing_ids = [cl.test1.remote(), cl.test2.remote(), cl.test3.remote()]\n",
    "\n",
    "while len(processing_ids):\n",
    "    done_id, processing_ids = ray.wait(processing_ids)\n",
    "\n",
    "    print(ray.get(done_id))\n",
    "    print(f\"In progress: {processing_ids}\")\n"
   ]
  },
  {
   "cell_type": "code",
   "execution_count": 43,
   "metadata": {},
   "outputs": [
    {
     "name": "stderr",
     "output_type": "stream",
     "text": [
      "2022-03-08 14:46:31,370\tINFO worker.py:862 -- Calling ray.init() again after it has already been called.\n"
     ]
    },
    {
     "name": "stdout",
     "output_type": "stream",
     "text": [
      "Dones: [ObjectRef(909a212b104ea2f1ffffffffffffffffffffffff0100000001000000)]\n",
      "In progesss: [ObjectRef(8e088f779f48acd6ffffffffffffffffffffffff0100000001000000), ObjectRef(65a1a3aaa614cba3ffffffffffffffffffffffff0100000001000000), ObjectRef(5497aa04f981e4a1ffffffffffffffffffffffff0100000001000000)]\n",
      "Dones: [ObjectRef(5497aa04f981e4a1ffffffffffffffffffffffff0100000001000000)]\n",
      "In progesss: [ObjectRef(8e088f779f48acd6ffffffffffffffffffffffff0100000001000000), ObjectRef(65a1a3aaa614cba3ffffffffffffffffffffffff0100000001000000)]\n",
      "Dones: [ObjectRef(65a1a3aaa614cba3ffffffffffffffffffffffff0100000001000000)]\n",
      "In progesss: [ObjectRef(8e088f779f48acd6ffffffffffffffffffffffff0100000001000000)]\n",
      "Dones: [ObjectRef(8e088f779f48acd6ffffffffffffffffffffffff0100000001000000)]\n",
      "In progesss: []\n",
      "duration = 5.368376970291138 \n",
      "result =  6\n"
     ]
    }
   ],
   "source": [
    "import time \n",
    "import random \n",
    "import ray \n",
    "\n",
    "ray.init(ignore_reinit_error = True) \n",
    "\n",
    "@ray.remote \n",
    "def do_some_work(x): \n",
    "    time.sleep(random.uniform(0, 4)) # Replace this with work you need to do. \n",
    "    return x \n",
    "\n",
    "def process_incremental(sum, result): \n",
    "    time.sleep(1) # Replace this with some processing code. \n",
    "    return sum + result \n",
    "\n",
    "start = time.time() \n",
    "\n",
    "result_ids = [do_some_work.remote(x) for x in range(4)] \n",
    "sum = 0 \n",
    "\n",
    "while len(result_ids): \n",
    "    done_id, result_ids = ray.wait(result_ids)\n",
    "    print(f\"Dones: {done_id}\")\n",
    "    print(f\"In progesss: {result_ids}\")\n",
    "    sum = process_incremental(sum, ray.get(done_id[0])) \n",
    "\n",
    "print(\"duration =\", time.time() - start, \"\\nresult = \", sum) "
   ]
  },
  {
   "cell_type": "code",
   "execution_count": null,
   "metadata": {},
   "outputs": [],
   "source": [
    "import ray\n",
    "import time\n",
    "\n",
    "# Start Ray.\n",
    "# ray.init()\n",
    "\n",
    "@ray.remote\n",
    "def f(x):\n",
    "    time.sleep(1)\n",
    "    return x\n",
    "\n",
    "# Start 4 tasks in parallel.\n",
    "result_ids = []\n",
    "for i in range(4):\n",
    "    result_ids.append(f.remote(i))\n",
    "    \n",
    "# Wait for the tasks to complete and retrieve the results.\n",
    "# With at least 4 cores, this will take 1 second.\n",
    "results = ray.get(result_ids)  # [0, 1, 2, 3]"
   ]
  },
  {
   "cell_type": "code",
   "execution_count": null,
   "metadata": {},
   "outputs": [],
   "source": [
    "import numpy as np\n",
    "\n",
    "@ray.remote\n",
    "def create_matrix(size):\n",
    "    return np.random.normal(size=size)\n",
    "\n",
    "@ray.remote\n",
    "def multiply_matrices(x, y):\n",
    "    return np.dot(x, y)\n",
    "\n",
    "x_id = create_matrix.remote([1000, 1000])\n",
    "y_id = create_matrix.remote([1000, 1000])\n",
    "z_id = multiply_matrices.remote(x_id, y_id)\n",
    "\n",
    "# Get the results.\n",
    "z = ray.get(z_id)"
   ]
  },
  {
   "cell_type": "code",
   "execution_count": null,
   "metadata": {},
   "outputs": [],
   "source": [
    "import numpy as np\n",
    "\n",
    "def create_matrix(size):\n",
    "    return np.random.normal(size=size)\n",
    "\n",
    "def multiply_matrices(x, y):\n",
    "    return np.dot(x, y)\n",
    "\n",
    "x_id = create_matrix([1000, 1000])\n",
    "y_id = create_matrix([1000, 1000])\n",
    "z_id = multiply_matrices(x_id, y_id)\n",
    "\n",
    "# Get the results.\n",
    "z = (z_id)"
   ]
  },
  {
   "cell_type": "code",
   "execution_count": null,
   "metadata": {},
   "outputs": [
    {
     "name": "stdout",
     "output_type": "stream",
     "text": [
      "New messages: []\n",
      "New messages: []\n",
      "New messages: ['Message 0 from worker 0.', 'Message 0 from worker 2.', 'Message 0 from worker 1.']\n",
      "New messages: ['Message 1 from worker 1.', 'Message 1 from worker 2.', 'Message 1 from worker 0.', 'Message 2 from worker 2.', 'Message 2 from worker 1.', 'Message 2 from worker 0.']\n",
      "New messages: []\n",
      "New messages: ['Message 3 from worker 0.', 'Message 3 from worker 1.', 'Message 3 from worker 2.', 'Message 4 from worker 2.', 'Message 4 from worker 1.']\n",
      "New messages: ['Message 4 from worker 0.']\n",
      "New messages: ['Message 5 from worker 2.', 'Message 5 from worker 1.', 'Message 5 from worker 0.']\n",
      "New messages: ['Message 6 from worker 0.', 'Message 6 from worker 2.', 'Message 6 from worker 1.']\n",
      "New messages: ['Message 7 from worker 0.', 'Message 7 from worker 2.', 'Message 7 from worker 1.']\n",
      "New messages: ['Message 8 from worker 2.', 'Message 8 from worker 0.', 'Message 8 from worker 1.']\n",
      "New messages: ['Message 9 from worker 1.', 'Message 9 from worker 2.', 'Message 9 from worker 0.']\n",
      "New messages: ['Message 10 from worker 2.', 'Message 10 from worker 1.', 'Message 10 from worker 0.']\n",
      "New messages: ['Message 11 from worker 0.', 'Message 11 from worker 2.', 'Message 11 from worker 1.']\n",
      "New messages: ['Message 12 from worker 1.', 'Message 12 from worker 0.', 'Message 12 from worker 2.']\n",
      "New messages: ['Message 13 from worker 0.', 'Message 13 from worker 2.', 'Message 13 from worker 1.']\n",
      "New messages: ['Message 14 from worker 0.', 'Message 14 from worker 2.', 'Message 14 from worker 1.', 'Message 15 from worker 1.', 'Message 15 from worker 2.', 'Message 15 from worker 0.']\n",
      "New messages: []\n",
      "New messages: ['Message 16 from worker 1.', 'Message 16 from worker 2.', 'Message 16 from worker 0.']\n",
      "New messages: ['Message 17 from worker 0.', 'Message 17 from worker 2.', 'Message 17 from worker 1.']\n"
     ]
    }
   ],
   "source": [
    "\n",
    "import time\n",
    "\n",
    "\n",
    "@ray.remote\n",
    "class MessageActor(object):\n",
    "    def __init__(self):\n",
    "        self.messages = []\n",
    "    \n",
    "    def add_message(self, message):\n",
    "        self.messages.append(message)\n",
    "    \n",
    "    def get_and_clear_messages(self):\n",
    "        messages = self.messages\n",
    "        self.messages = []\n",
    "        return messages\n",
    "\n",
    "\n",
    "# Define a remote function which loops around and pushes\n",
    "# messages to the actor.\n",
    "@ray.remote\n",
    "def worker(message_actor, j):\n",
    "    for i in range(100):\n",
    "        time.sleep(1)\n",
    "        message_actor.add_message.remote(\n",
    "            \"Message {} from worker {}.\".format(i, j))\n",
    "\n",
    "\n",
    "# Create a message actor.\n",
    "message_actor = MessageActor.remote()\n",
    "\n",
    "# Start 3 tasks that push messages to the actor.\n",
    "[worker.remote(message_actor, j) for j in range(3)]\n",
    "\n",
    "# Periodically get the messages and print them.\n",
    "for _ in range(20):\n",
    "    new_messages = ray.get(message_actor.get_and_clear_messages.remote())\n",
    "    print(\"New messages:\", new_messages)\n",
    "    time.sleep(1)\n",
    "\n",
    "# This script prints something like the following:\n",
    "# New messages: []\n",
    "# New messages: ['Message 0 from worker 1.', 'Message 0 from worker 0.']\n",
    "# New messages: ['Message 0 from worker 2.', 'Message 1 from worker 1.', 'Message 1 from worker 0.', 'Message 1 from worker 2.']\n",
    "# New messages: ['Message 2 from worker 1.', 'Message 2 from worker 0.', 'Message 2 from worker 2.']\n",
    "# New messages: ['Message 3 from worker 2.', 'Message 3 from worker 1.', 'Message 3 from worker 0.']\n",
    "# New messages: ['Message 4 from worker 2.', 'Message 4 from worker 0.', 'Message 4 from worker 1.']\n",
    "# New messages: ['Message 5 from worker 2.', 'Message 5 from worker 0.', 'Message 5 from worker 1.']"
   ]
  },
  {
   "cell_type": "code",
   "execution_count": null,
   "metadata": {},
   "outputs": [],
   "source": [
    "from athena.src.services.download.data import Data\n",
    "\n",
    "rules = {\n",
    "    \"domains\": [\"stocks\", \"variable etfs\", \"fixed etfs\"]\n",
    "}\n",
    "\n",
    "backtesting_years = 3\n",
    "download = Data(rules = rules, period = f\"{backtesting_years + 2}y\")\n",
    "data = download.get_data(yahoo = True)"
   ]
  },
  {
   "cell_type": "code",
   "execution_count": null,
   "metadata": {},
   "outputs": [],
   "source": [
    "import numpy as np\n",
    "import pandas as pd\n",
    "import plotly.express as px\n",
    "from athena.src.services.backtest.backtest import Backtest\n",
    "import ray\n",
    "\n",
    "@ray.remote\n",
    "def backtest(fix_percentage: float, data: pd.DataFrame, rebalance: str) -> pd.DataFrame:\n",
    "    filters = {\n",
    "\n",
    "        \"max_price\": {\n",
    "            \"cutoff\": 70.0\n",
    "        },\n",
    "\n",
    "        \"volume\": {\n",
    "            \"num_tickers\": 50,\n",
    "            \"months\": 1\n",
    "        },\n",
    "\n",
    "        \"momentum\": {\n",
    "            \"num_tickers\": 8,\n",
    "            \"months\": 1\n",
    "        }\n",
    "\n",
    "    }\n",
    "    \n",
    "    if fix_percentage == 0:\n",
    "        constraints = None\n",
    "\n",
    "    else:\n",
    "        constraints = {\n",
    "            \"invest_sections\": {fix_percentage: [\"FIXA11.SA\", \"IRFM11.SA\"]}\n",
    "\n",
    "        }\n",
    "\n",
    "\n",
    "    optimizer = {\n",
    "        \"hrp\": {\n",
    "            \"covariance_function\": \"exp_cov\",\n",
    "            \"linkage_method\": \"average\"\n",
    "        }\n",
    "    }\n",
    "\n",
    "    backtest = Backtest(data_rules = rules, filters = filters, optimizer = optimizer, backtesting_years = backtesting_years, rebalance_interval = rebalance, data = data, constraints = constraints)\n",
    "    backtest.backtest()\n",
    "    \n",
    "    return backtest.returns"
   ]
  },
  {
   "cell_type": "code",
   "execution_count": null,
   "metadata": {},
   "outputs": [],
   "source": [
    "percentages = [0.25, 0.5, 0.75, 0, (0, 0.8)]\n",
    "cons_future = backtest.remote(fix_percentage = 0.75, data = data)\n",
    "mode_future = backtest.remote(fix_percentage = 0.5, data = data)\n",
    "agre_future = backtest.remote(fix_percentage = 0.25, data = data)\n",
    "vari_future = backtest.remote(fix_percentage = 0, data = data)\n",
    "dyna_future = backtest.remote(fix_percentage = (0, 0.8), data = data)\n",
    "\n",
    "cons = ray.get(cons_future)\n",
    "mode = ray.get(mode_future)\n",
    "agre = ray.get(agre_future)\n",
    "vari = ray.get(vari_future)\n",
    "dyna = ray.get(dyna_future)"
   ]
  },
  {
   "cell_type": "code",
   "execution_count": 4,
   "metadata": {},
   "outputs": [
    {
     "name": "stderr",
     "output_type": "stream",
     "text": [
      "2022-05-30 15:55:22,323\tINFO worker.py:862 -- Calling ray.init() again after it has already been called.\n"
     ]
    }
   ],
   "source": [
    "import ray\n",
    "ray.init(ignore_reinit_error = True)\n",
    "import time\n",
    "from datetime import datetime\n",
    "import pandas as pd"
   ]
  },
  {
   "cell_type": "code",
   "execution_count": 24,
   "metadata": {},
   "outputs": [],
   "source": [
    "def get_strategy() -> dict:\n",
    "    strategy = datetime.now()\n",
    "    return strategy\n",
    "\n",
    "\n",
    "def run_strategy(strategy) -> pd.DataFrame:\n",
    "    df_returns = pd.DataFrame(0, columns = [strategy], index = [\"teste\"])\n",
    "    time.sleep(2)\n",
    "    return df_returns\n",
    "\n",
    "@ray.remote\n",
    "def run_partial_universe(num) -> pd.DataFrame:\n",
    "    main_df = pd.DataFrame()\n",
    "\n",
    "    for i in range(num):\n",
    "        random_strategy = get_strategy()\n",
    "\n",
    "        df = run_strategy(strategy = random_strategy)\n",
    "        main_df = pd.concat([main_df, df], axis = 1)\n",
    "\n",
    "    return df"
   ]
  },
  {
   "cell_type": "code",
   "execution_count": 33,
   "metadata": {},
   "outputs": [
    {
     "data": {
      "text/html": [
       "<div>\n",
       "<style scoped>\n",
       "    .dataframe tbody tr th:only-of-type {\n",
       "        vertical-align: middle;\n",
       "    }\n",
       "\n",
       "    .dataframe tbody tr th {\n",
       "        vertical-align: top;\n",
       "    }\n",
       "\n",
       "    .dataframe thead th {\n",
       "        text-align: right;\n",
       "    }\n",
       "</style>\n",
       "<table border=\"1\" class=\"dataframe\">\n",
       "  <thead>\n",
       "    <tr style=\"text-align: right;\">\n",
       "      <th></th>\n",
       "      <th>2022-05-30 16:09:43.323403</th>\n",
       "      <th>2022-05-30 16:09:43.323403</th>\n",
       "      <th>2022-05-30 16:09:43.323403</th>\n",
       "      <th>2022-05-30 16:09:43.322395</th>\n",
       "      <th>2022-05-30 16:09:43.323403</th>\n",
       "      <th>2022-05-30 16:09:43.322395</th>\n",
       "      <th>2022-05-30 16:09:43.323403</th>\n",
       "      <th>2022-05-30 16:09:43.323403</th>\n",
       "    </tr>\n",
       "  </thead>\n",
       "  <tbody>\n",
       "    <tr>\n",
       "      <th>teste</th>\n",
       "      <td>0</td>\n",
       "      <td>0</td>\n",
       "      <td>0</td>\n",
       "      <td>0</td>\n",
       "      <td>0</td>\n",
       "      <td>0</td>\n",
       "      <td>0</td>\n",
       "      <td>0</td>\n",
       "    </tr>\n",
       "  </tbody>\n",
       "</table>\n",
       "</div>"
      ],
      "text/plain": [
       "       2022-05-30 16:09:43.323403  2022-05-30 16:09:43.323403  \\\n",
       "teste                           0                           0   \n",
       "\n",
       "       2022-05-30 16:09:43.323403  2022-05-30 16:09:43.322395  \\\n",
       "teste                           0                           0   \n",
       "\n",
       "       2022-05-30 16:09:43.323403  2022-05-30 16:09:43.322395  \\\n",
       "teste                           0                           0   \n",
       "\n",
       "       2022-05-30 16:09:43.323403  2022-05-30 16:09:43.323403  \n",
       "teste                           0                           0  "
      ]
     },
     "execution_count": 33,
     "metadata": {},
     "output_type": "execute_result"
    }
   ],
   "source": [
    "main_df = pd.DataFrame()\n",
    "\n",
    "future_dfs = [run_partial_universe.remote(num = 4) for i in range(8)]\n",
    "\n",
    "dfs = [df for df in ray.get(future_dfs)]\n",
    "\n",
    "for df in dfs:\n",
    "    main_df = pd.concat([main_df, df], axis = 1)\n",
    "\n",
    "main_df"
   ]
  },
  {
   "cell_type": "code",
   "execution_count": 35,
   "metadata": {},
   "outputs": [
    {
     "data": {
      "text/plain": [
       "8"
      ]
     },
     "execution_count": 35,
     "metadata": {},
     "output_type": "execute_result"
    }
   ],
   "source": [
    "len(main_df.columns)"
   ]
  }
 ],
 "metadata": {
  "interpreter": {
   "hash": "45fd9bcd5fc85e1dbf083a295d7ebca2be267dd81b1cd67b6b9405cc403d92ff"
  },
  "kernelspec": {
   "display_name": "Python 3.8.8 ('research-0MDvmO17-py3.8')",
   "language": "python",
   "name": "python3"
  },
  "language_info": {
   "codemirror_mode": {
    "name": "ipython",
    "version": 3
   },
   "file_extension": ".py",
   "mimetype": "text/x-python",
   "name": "python",
   "nbconvert_exporter": "python",
   "pygments_lexer": "ipython3",
   "version": "3.8.8"
  },
  "orig_nbformat": 4
 },
 "nbformat": 4,
 "nbformat_minor": 2
}
